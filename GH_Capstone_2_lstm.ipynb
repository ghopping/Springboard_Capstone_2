{
 "cells": [
  {
   "cell_type": "code",
   "execution_count": 296,
   "metadata": {},
   "outputs": [],
   "source": [
    "#Imports\n",
    "import pandas as pd\n",
    "import numpy as np\n",
    "from numpy import array\n",
    "from keras.preprocessing.sequence import TimeseriesGenerator\n",
    "import matplotlib.pyplot as plt\n",
    "from datetime import datetime, timedelta, time\n",
    "import keras\n",
    "from keras.models import Sequential\n",
    "from keras.layers import Dense, Activation, LSTM, TimeDistributed, Conv2D, MaxPooling2D, Flatten"
   ]
  },
  {
   "cell_type": "code",
   "execution_count": 297,
   "metadata": {},
   "outputs": [],
   "source": [
    "#Read in the pickled dataframe from GH_Capstone2_accident notebook\n",
    "all_coords_df = pd.read_pickle('all_coords_df.pkl')"
   ]
  },
  {
   "cell_type": "code",
   "execution_count": 298,
   "metadata": {},
   "outputs": [
    {
     "name": "stdout",
     "output_type": "stream",
     "text": [
      "<class 'pandas.core.frame.DataFrame'>\n",
      "DatetimeIndex: 1293094 entries, 2019-04-16 00:00:00 to 2012-07-01 09:59:00\n",
      "Data columns (total 6 columns):\n",
      "date         1293094 non-null datetime64[ns]\n",
      "time         1293094 non-null object\n",
      "longitude    1293094 non-null float64\n",
      "latitude     1293094 non-null float64\n",
      "y            1293094 non-null float64\n",
      "x            1293094 non-null float64\n",
      "dtypes: datetime64[ns](1), float64(4), object(1)\n",
      "memory usage: 69.1+ MB\n"
     ]
    }
   ],
   "source": [
    "all_coords_df.info()"
   ]
  },
  {
   "cell_type": "code",
   "execution_count": 299,
   "metadata": {},
   "outputs": [
    {
     "data": {
      "text/html": [
       "<div>\n",
       "<style scoped>\n",
       "    .dataframe tbody tr th:only-of-type {\n",
       "        vertical-align: middle;\n",
       "    }\n",
       "\n",
       "    .dataframe tbody tr th {\n",
       "        vertical-align: top;\n",
       "    }\n",
       "\n",
       "    .dataframe thead th {\n",
       "        text-align: right;\n",
       "    }\n",
       "</style>\n",
       "<table border=\"1\" class=\"dataframe\">\n",
       "  <thead>\n",
       "    <tr style=\"text-align: right;\">\n",
       "      <th></th>\n",
       "      <th>date</th>\n",
       "      <th>time</th>\n",
       "      <th>longitude</th>\n",
       "      <th>latitude</th>\n",
       "      <th>y</th>\n",
       "      <th>x</th>\n",
       "    </tr>\n",
       "    <tr>\n",
       "      <th>datetime</th>\n",
       "      <th></th>\n",
       "      <th></th>\n",
       "      <th></th>\n",
       "      <th></th>\n",
       "      <th></th>\n",
       "      <th></th>\n",
       "    </tr>\n",
       "  </thead>\n",
       "  <tbody>\n",
       "    <tr>\n",
       "      <th>2019-04-16</th>\n",
       "      <td>2019-04-16</td>\n",
       "      <td>0:00</td>\n",
       "      <td>-73.98091</td>\n",
       "      <td>40.737885</td>\n",
       "      <td>586046.344512</td>\n",
       "      <td>4.510160e+06</td>\n",
       "    </tr>\n",
       "    <tr>\n",
       "      <th>2019-04-16</th>\n",
       "      <td>2019-04-16</td>\n",
       "      <td>0:00</td>\n",
       "      <td>-73.82261</td>\n",
       "      <td>40.762756</td>\n",
       "      <td>599375.548769</td>\n",
       "      <td>4.513088e+06</td>\n",
       "    </tr>\n",
       "    <tr>\n",
       "      <th>2019-04-16</th>\n",
       "      <td>2019-04-16</td>\n",
       "      <td>0:00</td>\n",
       "      <td>-73.82282</td>\n",
       "      <td>40.729404</td>\n",
       "      <td>599407.480337</td>\n",
       "      <td>4.509385e+06</td>\n",
       "    </tr>\n",
       "    <tr>\n",
       "      <th>2019-04-16</th>\n",
       "      <td>2019-04-16</td>\n",
       "      <td>0:00</td>\n",
       "      <td>-73.75374</td>\n",
       "      <td>40.665485</td>\n",
       "      <td>605341.759287</td>\n",
       "      <td>4.502370e+06</td>\n",
       "    </tr>\n",
       "    <tr>\n",
       "      <th>2019-04-16</th>\n",
       "      <td>2019-04-16</td>\n",
       "      <td>0:00</td>\n",
       "      <td>-73.95117</td>\n",
       "      <td>40.810173</td>\n",
       "      <td>588461.524222</td>\n",
       "      <td>4.518214e+06</td>\n",
       "    </tr>\n",
       "  </tbody>\n",
       "</table>\n",
       "</div>"
      ],
      "text/plain": [
       "                 date  time  longitude   latitude              y             x\n",
       "datetime                                                                      \n",
       "2019-04-16 2019-04-16  0:00  -73.98091  40.737885  586046.344512  4.510160e+06\n",
       "2019-04-16 2019-04-16  0:00  -73.82261  40.762756  599375.548769  4.513088e+06\n",
       "2019-04-16 2019-04-16  0:00  -73.82282  40.729404  599407.480337  4.509385e+06\n",
       "2019-04-16 2019-04-16  0:00  -73.75374  40.665485  605341.759287  4.502370e+06\n",
       "2019-04-16 2019-04-16  0:00  -73.95117  40.810173  588461.524222  4.518214e+06"
      ]
     },
     "execution_count": 299,
     "metadata": {},
     "output_type": "execute_result"
    }
   ],
   "source": [
    "all_coords_df.head()"
   ]
  },
  {
   "cell_type": "code",
   "execution_count": 300,
   "metadata": {},
   "outputs": [
    {
     "name": "stdout",
     "output_type": "stream",
     "text": [
      "The max and min values for y and x are: 563160.1705779731, 612885.3478294573, 4483412.260444801 and 4529666.189655863\n",
      "One square represents: x: 1401.6342185170136, y: 1506.8235530752765 meters\n",
      "Date range is from 2012-07-01 00:00:00 to 2019-04-16 00:00:00\n"
     ]
    }
   ],
   "source": [
    "\n",
    "#Determining limits of data\n",
    "ymin = all_coords_df.y.min()\n",
    "ymax = all_coords_df.y.max()\n",
    "yrange = (ymax - ymin) / 33 #ground distance of each square in histogam below\n",
    "xmin = all_coords_df.x.min()\n",
    "xmax = all_coords_df.x.max()\n",
    "datemin = all_coords_df.date.min()\n",
    "datemax = all_coords_df.date.max()\n",
    "xrange = (xmax - xmin) / 33 #ground distance of each square in histogram below\n",
    "print(f\"The max and min values for y and x are: {ymin}, {ymax}, {xmin} and {xmax}\")\n",
    "print(f'One square represents: x: {xrange}, y: {yrange} meters')\n",
    "print(f'Date range is from {datemin} to {datemax}')"
   ]
  },
  {
   "cell_type": "markdown",
   "metadata": {},
   "source": [
    "Below we will define the size of the histogram by ucreating two arrays containing the bins defined by taking the extreme values of lat and long and dividing them up evenly. WIll then fill in the accident data for the entire dataset as a test. Next step will want to be able to select the hour period."
   ]
  },
  {
   "cell_type": "code",
   "execution_count": 301,
   "metadata": {},
   "outputs": [
    {
     "data": {
      "text/plain": [
       "array([[5.2000e+02, 3.8400e+02, 1.7700e+02, 5.3000e+01, 0.0000e+00,\n",
       "        0.0000e+00, 0.0000e+00, 0.0000e+00, 0.0000e+00, 0.0000e+00,\n",
       "        0.0000e+00, 0.0000e+00, 0.0000e+00, 0.0000e+00, 0.0000e+00,\n",
       "        0.0000e+00, 0.0000e+00, 0.0000e+00, 0.0000e+00, 0.0000e+00,\n",
       "        0.0000e+00, 0.0000e+00, 0.0000e+00, 0.0000e+00, 0.0000e+00,\n",
       "        0.0000e+00, 0.0000e+00, 0.0000e+00, 0.0000e+00, 0.0000e+00,\n",
       "        0.0000e+00, 0.0000e+00],\n",
       "       [1.8600e+02, 6.8500e+02, 6.4800e+02, 5.0500e+02, 5.2000e+01,\n",
       "        0.0000e+00, 0.0000e+00, 0.0000e+00, 0.0000e+00, 0.0000e+00,\n",
       "        0.0000e+00, 0.0000e+00, 0.0000e+00, 0.0000e+00, 0.0000e+00,\n",
       "        0.0000e+00, 0.0000e+00, 0.0000e+00, 0.0000e+00, 0.0000e+00,\n",
       "        0.0000e+00, 0.0000e+00, 0.0000e+00, 0.0000e+00, 0.0000e+00,\n",
       "        0.0000e+00, 0.0000e+00, 0.0000e+00, 0.0000e+00, 0.0000e+00,\n",
       "        0.0000e+00, 0.0000e+00],\n",
       "       [3.9000e+01, 4.9200e+02, 7.5500e+02, 5.3800e+02, 4.8600e+02,\n",
       "        0.0000e+00, 1.2000e+01, 0.0000e+00, 0.0000e+00, 0.0000e+00,\n",
       "        0.0000e+00, 0.0000e+00, 0.0000e+00, 0.0000e+00, 0.0000e+00,\n",
       "        0.0000e+00, 0.0000e+00, 0.0000e+00, 0.0000e+00, 0.0000e+00,\n",
       "        0.0000e+00, 0.0000e+00, 0.0000e+00, 0.0000e+00, 0.0000e+00,\n",
       "        0.0000e+00, 0.0000e+00, 0.0000e+00, 0.0000e+00, 0.0000e+00,\n",
       "        0.0000e+00, 0.0000e+00],\n",
       "       [0.0000e+00, 2.9100e+02, 6.9000e+02, 6.3700e+02, 7.4100e+02,\n",
       "        2.0700e+02, 1.2800e+02, 5.9300e+02, 2.2200e+02, 1.3000e+01,\n",
       "        2.1000e+01, 0.0000e+00, 0.0000e+00, 0.0000e+00, 0.0000e+00,\n",
       "        0.0000e+00, 0.0000e+00, 0.0000e+00, 0.0000e+00, 0.0000e+00,\n",
       "        0.0000e+00, 0.0000e+00, 0.0000e+00, 0.0000e+00, 0.0000e+00,\n",
       "        0.0000e+00, 0.0000e+00, 0.0000e+00, 0.0000e+00, 0.0000e+00,\n",
       "        0.0000e+00, 0.0000e+00],\n",
       "       [0.0000e+00, 4.0000e+00, 3.4600e+02, 1.4390e+03, 2.0640e+03,\n",
       "        4.9800e+02, 1.0590e+03, 7.4900e+02, 6.7100e+02, 1.5600e+03,\n",
       "        3.8200e+02, 1.0000e+00, 0.0000e+00, 0.0000e+00, 0.0000e+00,\n",
       "        0.0000e+00, 0.0000e+00, 0.0000e+00, 0.0000e+00, 0.0000e+00,\n",
       "        0.0000e+00, 0.0000e+00, 0.0000e+00, 0.0000e+00, 0.0000e+00,\n",
       "        0.0000e+00, 0.0000e+00, 0.0000e+00, 0.0000e+00, 0.0000e+00,\n",
       "        0.0000e+00, 0.0000e+00],\n",
       "       [0.0000e+00, 0.0000e+00, 4.7300e+02, 1.3830e+03, 9.1500e+02,\n",
       "        4.5600e+02, 6.6700e+02, 2.1900e+02, 2.0430e+03, 1.6630e+03,\n",
       "        7.5800e+02, 0.0000e+00, 0.0000e+00, 0.0000e+00, 0.0000e+00,\n",
       "        0.0000e+00, 0.0000e+00, 0.0000e+00, 0.0000e+00, 0.0000e+00,\n",
       "        0.0000e+00, 0.0000e+00, 0.0000e+00, 0.0000e+00, 0.0000e+00,\n",
       "        0.0000e+00, 0.0000e+00, 0.0000e+00, 0.0000e+00, 0.0000e+00,\n",
       "        0.0000e+00, 0.0000e+00],\n",
       "       [0.0000e+00, 0.0000e+00, 0.0000e+00, 2.4500e+02, 8.2200e+02,\n",
       "        1.0850e+03, 3.7000e+02, 3.9500e+02, 1.9230e+03, 1.3120e+03,\n",
       "        1.4180e+03, 0.0000e+00, 0.0000e+00, 0.0000e+00, 0.0000e+00,\n",
       "        0.0000e+00, 0.0000e+00, 0.0000e+00, 0.0000e+00, 0.0000e+00,\n",
       "        0.0000e+00, 0.0000e+00, 0.0000e+00, 0.0000e+00, 0.0000e+00,\n",
       "        0.0000e+00, 0.0000e+00, 0.0000e+00, 0.0000e+00, 0.0000e+00,\n",
       "        0.0000e+00, 0.0000e+00],\n",
       "       [0.0000e+00, 0.0000e+00, 0.0000e+00, 0.0000e+00, 4.8000e+02,\n",
       "        2.8230e+03, 7.4400e+02, 4.7400e+02, 2.2250e+03, 9.4400e+02,\n",
       "        2.0080e+03, 1.9100e+02, 0.0000e+00, 0.0000e+00, 0.0000e+00,\n",
       "        0.0000e+00, 0.0000e+00, 0.0000e+00, 0.0000e+00, 0.0000e+00,\n",
       "        0.0000e+00, 0.0000e+00, 0.0000e+00, 0.0000e+00, 0.0000e+00,\n",
       "        0.0000e+00, 0.0000e+00, 0.0000e+00, 0.0000e+00, 0.0000e+00,\n",
       "        0.0000e+00, 0.0000e+00],\n",
       "       [0.0000e+00, 0.0000e+00, 0.0000e+00, 0.0000e+00, 6.3000e+01,\n",
       "        8.5800e+02, 2.5100e+03, 1.4840e+03, 2.7280e+03, 9.8800e+02,\n",
       "        1.0560e+03, 4.3400e+02, 0.0000e+00, 0.0000e+00, 1.0000e+00,\n",
       "        0.0000e+00, 0.0000e+00, 0.0000e+00, 0.0000e+00, 0.0000e+00,\n",
       "        0.0000e+00, 0.0000e+00, 0.0000e+00, 0.0000e+00, 0.0000e+00,\n",
       "        0.0000e+00, 0.0000e+00, 0.0000e+00, 0.0000e+00, 0.0000e+00,\n",
       "        0.0000e+00, 0.0000e+00],\n",
       "       [0.0000e+00, 0.0000e+00, 0.0000e+00, 0.0000e+00, 0.0000e+00,\n",
       "        5.5000e+01, 3.8000e+02, 1.4900e+03, 2.1370e+03, 2.1070e+03,\n",
       "        2.1210e+03, 1.1510e+03, 0.0000e+00, 0.0000e+00, 0.0000e+00,\n",
       "        0.0000e+00, 0.0000e+00, 0.0000e+00, 0.0000e+00, 0.0000e+00,\n",
       "        0.0000e+00, 0.0000e+00, 0.0000e+00, 0.0000e+00, 0.0000e+00,\n",
       "        0.0000e+00, 0.0000e+00, 0.0000e+00, 0.0000e+00, 0.0000e+00,\n",
       "        0.0000e+00, 0.0000e+00],\n",
       "       [0.0000e+00, 0.0000e+00, 0.0000e+00, 0.0000e+00, 0.0000e+00,\n",
       "        0.0000e+00, 1.0000e+00, 8.6800e+02, 1.8430e+03, 2.4600e+02,\n",
       "        0.0000e+00, 0.0000e+00, 0.0000e+00, 0.0000e+00, 0.0000e+00,\n",
       "        0.0000e+00, 0.0000e+00, 0.0000e+00, 0.0000e+00, 0.0000e+00,\n",
       "        0.0000e+00, 0.0000e+00, 0.0000e+00, 0.0000e+00, 0.0000e+00,\n",
       "        0.0000e+00, 0.0000e+00, 0.0000e+00, 0.0000e+00, 0.0000e+00,\n",
       "        0.0000e+00, 0.0000e+00],\n",
       "       [0.0000e+00, 0.0000e+00, 0.0000e+00, 0.0000e+00, 0.0000e+00,\n",
       "        0.0000e+00, 0.0000e+00, 0.0000e+00, 1.5370e+03, 8.0400e+02,\n",
       "        5.4500e+02, 1.2000e+01, 0.0000e+00, 0.0000e+00, 0.0000e+00,\n",
       "        0.0000e+00, 0.0000e+00, 0.0000e+00, 0.0000e+00, 0.0000e+00,\n",
       "        0.0000e+00, 0.0000e+00, 0.0000e+00, 0.0000e+00, 0.0000e+00,\n",
       "        0.0000e+00, 0.0000e+00, 0.0000e+00, 0.0000e+00, 0.0000e+00,\n",
       "        0.0000e+00, 0.0000e+00],\n",
       "       [0.0000e+00, 0.0000e+00, 0.0000e+00, 0.0000e+00, 0.0000e+00,\n",
       "        0.0000e+00, 0.0000e+00, 0.0000e+00, 1.5200e+03, 4.9280e+03,\n",
       "        5.7350e+03, 3.4930e+03, 4.9000e+01, 2.3500e+02, 7.0000e+00,\n",
       "        9.1900e+02, 2.7440e+03, 0.0000e+00, 0.0000e+00, 0.0000e+00,\n",
       "        0.0000e+00, 0.0000e+00, 0.0000e+00, 0.0000e+00, 0.0000e+00,\n",
       "        0.0000e+00, 0.0000e+00, 0.0000e+00, 0.0000e+00, 0.0000e+00,\n",
       "        0.0000e+00, 0.0000e+00],\n",
       "       [0.0000e+00, 0.0000e+00, 0.0000e+00, 0.0000e+00, 0.0000e+00,\n",
       "        2.0800e+02, 4.1200e+02, 1.8110e+03, 3.8690e+03, 3.6660e+03,\n",
       "        6.4360e+03, 5.3510e+03, 4.2440e+03, 4.7900e+03, 5.0720e+03,\n",
       "        2.8160e+03, 1.3118e+04, 1.5538e+04, 1.0710e+04, 1.1186e+04,\n",
       "        7.0140e+03, 3.3200e+02, 0.0000e+00, 0.0000e+00, 0.0000e+00,\n",
       "        0.0000e+00, 0.0000e+00, 0.0000e+00, 0.0000e+00, 0.0000e+00,\n",
       "        0.0000e+00, 0.0000e+00],\n",
       "       [0.0000e+00, 0.0000e+00, 0.0000e+00, 0.0000e+00, 0.0000e+00,\n",
       "        4.6300e+02, 3.5690e+03, 3.2580e+03, 4.6340e+03, 3.9480e+03,\n",
       "        5.0720e+03, 3.0540e+03, 3.3530e+03, 5.5150e+03, 1.1386e+04,\n",
       "        9.9280e+03, 5.7750e+03, 1.5090e+04, 1.6031e+04, 2.7910e+04,\n",
       "        2.0265e+04, 7.6450e+03, 3.0890e+03, 3.1700e+02, 0.0000e+00,\n",
       "        0.0000e+00, 0.0000e+00, 0.0000e+00, 0.0000e+00, 0.0000e+00,\n",
       "        0.0000e+00, 0.0000e+00],\n",
       "       [0.0000e+00, 0.0000e+00, 0.0000e+00, 0.0000e+00, 0.0000e+00,\n",
       "        3.2000e+01, 5.6560e+03, 4.1150e+03, 5.4470e+03, 5.3080e+03,\n",
       "        4.8640e+03, 5.8120e+03, 3.5410e+03, 4.4990e+03, 7.3120e+03,\n",
       "        6.3760e+03, 5.1190e+03, 2.3010e+03, 2.7040e+03, 1.1519e+04,\n",
       "        2.2738e+04, 5.7170e+03, 5.6960e+03, 4.5450e+03, 2.8040e+03,\n",
       "        9.6000e+01, 0.0000e+00, 0.0000e+00, 0.0000e+00, 0.0000e+00,\n",
       "        0.0000e+00, 0.0000e+00],\n",
       "       [0.0000e+00, 0.0000e+00, 0.0000e+00, 0.0000e+00, 0.0000e+00,\n",
       "        0.0000e+00, 3.8940e+03, 3.9430e+03, 4.0240e+03, 4.0630e+03,\n",
       "        6.0860e+03, 7.4900e+03, 6.0690e+03, 8.5160e+03, 7.5380e+03,\n",
       "        8.0230e+03, 8.7730e+03, 7.5990e+03, 3.2220e+03, 4.2260e+03,\n",
       "        5.2380e+03, 8.2650e+03, 1.0478e+04, 9.2370e+03, 8.6180e+03,\n",
       "        6.9220e+03, 5.0450e+03, 1.3630e+03, 0.0000e+00, 0.0000e+00,\n",
       "        0.0000e+00, 0.0000e+00],\n",
       "       [0.0000e+00, 0.0000e+00, 0.0000e+00, 0.0000e+00, 2.1000e+01,\n",
       "        0.0000e+00, 1.7940e+03, 1.4970e+03, 1.7590e+03, 3.7390e+03,\n",
       "        3.9110e+03, 4.8980e+03, 7.5410e+03, 9.4210e+03, 5.3930e+03,\n",
       "        6.8550e+03, 4.3590e+03, 2.6010e+03, 6.2520e+03, 7.8250e+03,\n",
       "        5.1510e+03, 1.8280e+03, 2.3080e+03, 1.0126e+04, 8.5080e+03,\n",
       "        5.6250e+03, 7.1990e+03, 5.2570e+03, 4.0180e+03, 2.1700e+02,\n",
       "        0.0000e+00, 0.0000e+00],\n",
       "       [0.0000e+00, 0.0000e+00, 0.0000e+00, 0.0000e+00, 8.5000e+01,\n",
       "        8.0000e+00, 3.8000e+02, 1.2920e+03, 1.3520e+03, 2.1510e+03,\n",
       "        3.5460e+03, 5.0770e+03, 6.7500e+03, 8.2150e+03, 5.6790e+03,\n",
       "        6.0220e+03, 3.8200e+03, 3.4010e+03, 4.1260e+03, 4.3190e+03,\n",
       "        6.5130e+03, 4.2960e+03, 1.3600e+02, 3.7810e+03, 5.7060e+03,\n",
       "        6.3400e+03, 8.6440e+03, 6.7680e+03, 6.5140e+03, 4.7900e+03,\n",
       "        6.8100e+02, 1.0340e+03],\n",
       "       [0.0000e+00, 0.0000e+00, 0.0000e+00, 0.0000e+00, 0.0000e+00,\n",
       "        2.4000e+01, 1.5800e+02, 9.0000e+01, 6.2400e+02, 4.9900e+02,\n",
       "        3.3620e+03, 3.1340e+03, 7.1540e+03, 9.1660e+03, 2.1720e+03,\n",
       "        3.7980e+03, 2.5370e+03, 3.2080e+03, 3.9870e+03, 8.0680e+03,\n",
       "        4.6790e+03, 8.5400e+02, 6.0000e+00, 1.9100e+02, 7.1800e+03,\n",
       "        5.5960e+03, 6.0230e+03, 6.6900e+03, 6.8360e+03, 3.0100e+03,\n",
       "        1.1220e+03, 7.4600e+02],\n",
       "       [0.0000e+00, 0.0000e+00, 0.0000e+00, 0.0000e+00, 0.0000e+00,\n",
       "        3.2000e+01, 3.0000e+00, 0.0000e+00, 0.0000e+00, 0.0000e+00,\n",
       "        4.3800e+02, 1.8460e+03, 2.5950e+03, 5.2070e+03, 4.7490e+03,\n",
       "        1.7850e+03, 1.9450e+03, 2.4810e+03, 7.3360e+03, 6.1590e+03,\n",
       "        4.2990e+03, 1.4690e+03, 0.0000e+00, 1.9800e+02, 8.4900e+02,\n",
       "        5.9080e+03, 6.2930e+03, 3.3630e+03, 4.0620e+03, 6.3140e+03,\n",
       "        2.1990e+03, 2.0800e+02],\n",
       "       [0.0000e+00, 0.0000e+00, 0.0000e+00, 0.0000e+00, 0.0000e+00,\n",
       "        4.6000e+01, 1.8400e+02, 0.0000e+00, 0.0000e+00, 0.0000e+00,\n",
       "        0.0000e+00, 4.9500e+02, 1.1650e+03, 2.7900e+03, 3.9010e+03,\n",
       "        3.6810e+03, 2.8190e+03, 3.3920e+03, 6.6870e+03, 4.0270e+03,\n",
       "        2.5220e+03, 2.8600e+02, 6.9100e+02, 4.4000e+01, 1.3200e+03,\n",
       "        5.7890e+03, 3.9360e+03, 2.3520e+03, 2.9430e+03, 3.7950e+03,\n",
       "        5.3230e+03, 1.6370e+03],\n",
       "       [0.0000e+00, 0.0000e+00, 0.0000e+00, 0.0000e+00, 0.0000e+00,\n",
       "        0.0000e+00, 7.4900e+02, 0.0000e+00, 0.0000e+00, 0.0000e+00,\n",
       "        0.0000e+00, 1.8000e+02, 1.9060e+03, 3.6590e+03, 5.8430e+03,\n",
       "        3.4060e+03, 3.9710e+03, 5.7200e+03, 3.0540e+03, 3.3940e+03,\n",
       "        6.4870e+03, 2.6310e+03, 1.4590e+03, 2.4400e+02, 3.9300e+02,\n",
       "        2.8390e+03, 3.6080e+03, 1.9790e+03, 3.1120e+03, 3.6840e+03,\n",
       "        1.6560e+03, 1.3600e+02],\n",
       "       [0.0000e+00, 0.0000e+00, 0.0000e+00, 0.0000e+00, 0.0000e+00,\n",
       "        0.0000e+00, 8.6700e+02, 4.1100e+02, 3.5000e+02, 9.8000e+01,\n",
       "        0.0000e+00, 6.0000e+00, 2.7000e+02, 4.1580e+03, 4.4760e+03,\n",
       "        6.0460e+03, 5.4050e+03, 3.4120e+03, 3.4040e+03, 4.3600e+03,\n",
       "        6.3550e+03, 2.0900e+03, 2.7280e+03, 6.3400e+02, 7.6600e+02,\n",
       "        1.8270e+03, 9.8800e+02, 5.5400e+02, 1.0300e+03, 9.6700e+02,\n",
       "        4.4900e+02, 0.0000e+00],\n",
       "       [0.0000e+00, 0.0000e+00, 0.0000e+00, 0.0000e+00, 0.0000e+00,\n",
       "        0.0000e+00, 8.4000e+01, 9.4800e+02, 0.0000e+00, 0.0000e+00,\n",
       "        0.0000e+00, 0.0000e+00, 9.5000e+01, 5.0930e+03, 3.7370e+03,\n",
       "        5.8140e+03, 5.9870e+03, 2.6640e+03, 2.6760e+03, 1.1390e+03,\n",
       "        3.2480e+03, 1.1900e+03, 1.3590e+03, 2.6000e+01, 4.5100e+02,\n",
       "        2.4000e+01, 1.0000e+00, 1.5600e+02, 7.0000e+01, 1.5000e+01,\n",
       "        1.8000e+01, 0.0000e+00],\n",
       "       [0.0000e+00, 0.0000e+00, 0.0000e+00, 0.0000e+00, 0.0000e+00,\n",
       "        0.0000e+00, 0.0000e+00, 1.0000e+03, 0.0000e+00, 0.0000e+00,\n",
       "        0.0000e+00, 0.0000e+00, 1.8300e+02, 4.5930e+03, 3.1120e+03,\n",
       "        2.6370e+03, 4.3320e+03, 2.4110e+03, 1.9060e+03, 1.7730e+03,\n",
       "        3.3860e+03, 1.2970e+03, 1.1260e+03, 2.0000e+00, 0.0000e+00,\n",
       "        0.0000e+00, 1.4100e+02, 2.2900e+02, 0.0000e+00, 0.0000e+00,\n",
       "        0.0000e+00, 0.0000e+00],\n",
       "       [0.0000e+00, 0.0000e+00, 0.0000e+00, 0.0000e+00, 0.0000e+00,\n",
       "        0.0000e+00, 0.0000e+00, 1.0220e+03, 7.8700e+02, 4.0000e+00,\n",
       "        0.0000e+00, 1.0000e+01, 2.8460e+03, 5.6920e+03, 2.3560e+03,\n",
       "        2.4540e+03, 2.4510e+03, 2.9500e+03, 1.2650e+03, 2.9290e+03,\n",
       "        4.2320e+03, 4.5700e+02, 1.5000e+01, 0.0000e+00, 0.0000e+00,\n",
       "        0.0000e+00, 0.0000e+00, 0.0000e+00, 0.0000e+00, 0.0000e+00,\n",
       "        0.0000e+00, 0.0000e+00],\n",
       "       [0.0000e+00, 0.0000e+00, 0.0000e+00, 0.0000e+00, 0.0000e+00,\n",
       "        0.0000e+00, 0.0000e+00, 8.4000e+02, 2.6130e+03, 0.0000e+00,\n",
       "        3.5900e+02, 6.9000e+01, 1.2960e+03, 4.3570e+03, 1.8960e+03,\n",
       "        2.8340e+03, 3.1510e+03, 2.6630e+03, 1.6130e+03, 2.4460e+03,\n",
       "        2.2790e+03, 5.9900e+02, 2.0000e+00, 0.0000e+00, 0.0000e+00,\n",
       "        0.0000e+00, 0.0000e+00, 0.0000e+00, 0.0000e+00, 0.0000e+00,\n",
       "        0.0000e+00, 0.0000e+00],\n",
       "       [0.0000e+00, 0.0000e+00, 0.0000e+00, 0.0000e+00, 0.0000e+00,\n",
       "        0.0000e+00, 0.0000e+00, 4.0000e+00, 8.0000e+00, 0.0000e+00,\n",
       "        0.0000e+00, 3.1000e+01, 9.9800e+02, 3.6560e+03, 1.0900e+03,\n",
       "        1.8530e+03, 2.3570e+03, 1.8200e+03, 1.7840e+03, 1.7460e+03,\n",
       "        1.7070e+03, 3.9200e+02, 0.0000e+00, 0.0000e+00, 0.0000e+00,\n",
       "        0.0000e+00, 0.0000e+00, 0.0000e+00, 0.0000e+00, 0.0000e+00,\n",
       "        0.0000e+00, 0.0000e+00],\n",
       "       [0.0000e+00, 0.0000e+00, 0.0000e+00, 0.0000e+00, 0.0000e+00,\n",
       "        0.0000e+00, 0.0000e+00, 0.0000e+00, 0.0000e+00, 0.0000e+00,\n",
       "        0.0000e+00, 0.0000e+00, 0.0000e+00, 0.0000e+00, 0.0000e+00,\n",
       "        0.0000e+00, 0.0000e+00, 3.1100e+02, 1.6210e+03, 1.7130e+03,\n",
       "        1.8300e+02, 0.0000e+00, 1.0000e+00, 0.0000e+00, 0.0000e+00,\n",
       "        0.0000e+00, 0.0000e+00, 0.0000e+00, 0.0000e+00, 0.0000e+00,\n",
       "        0.0000e+00, 0.0000e+00],\n",
       "       [0.0000e+00, 0.0000e+00, 0.0000e+00, 0.0000e+00, 0.0000e+00,\n",
       "        0.0000e+00, 0.0000e+00, 0.0000e+00, 0.0000e+00, 0.0000e+00,\n",
       "        0.0000e+00, 0.0000e+00, 0.0000e+00, 0.0000e+00, 0.0000e+00,\n",
       "        0.0000e+00, 0.0000e+00, 0.0000e+00, 0.0000e+00, 0.0000e+00,\n",
       "        0.0000e+00, 0.0000e+00, 0.0000e+00, 0.0000e+00, 0.0000e+00,\n",
       "        0.0000e+00, 0.0000e+00, 0.0000e+00, 0.0000e+00, 0.0000e+00,\n",
       "        0.0000e+00, 0.0000e+00],\n",
       "       [0.0000e+00, 0.0000e+00, 0.0000e+00, 0.0000e+00, 0.0000e+00,\n",
       "        0.0000e+00, 0.0000e+00, 0.0000e+00, 0.0000e+00, 0.0000e+00,\n",
       "        0.0000e+00, 0.0000e+00, 0.0000e+00, 0.0000e+00, 0.0000e+00,\n",
       "        0.0000e+00, 0.0000e+00, 0.0000e+00, 1.0000e+00, 0.0000e+00,\n",
       "        0.0000e+00, 0.0000e+00, 0.0000e+00, 0.0000e+00, 0.0000e+00,\n",
       "        0.0000e+00, 0.0000e+00, 0.0000e+00, 0.0000e+00, 0.0000e+00,\n",
       "        0.0000e+00, 0.0000e+00]])"
      ]
     },
     "execution_count": 301,
     "metadata": {},
     "output_type": "execute_result"
    }
   ],
   "source": [
    "#setting up 2D array. divide max and min values of coordinates into regular intervals\n",
    "yedges = np.linspace(ymin, ymax, 33) #330\n",
    "xedges = np.linspace(xmin, xmax, 33) #330\n",
    "\n",
    "#generate the histogram using bins defined above\n",
    "test_hist, yedges, xedges  = np.histogram2d(all_coords_df['y'], all_coords_df['x'], \\\n",
    "                                            bins=(yedges, xedges))\n",
    "test_hist.shape, type(test_hist)\n",
    "test_hist"
   ]
  },
  {
   "cell_type": "markdown",
   "metadata": {},
   "source": [
    "Let's do some math: 365 days * 24 hours = 8760 2D rastors\n",
    "I don't think for this project its feasable to do hourly rastors across the whole timeframe. Let's do last 6 months, leaving the last month as the test set?\n",
    "\n",
    "min date = Dec 16 2018\n",
    "max date = Apr 16 2019"
   ]
  },
  {
   "cell_type": "markdown",
   "metadata": {},
   "source": [
    "1. nested loop for day and hour.\n",
    "2. create a 2D histogram for all day and hour combinations. write to a numpy array\n",
    "3. test case on 10 days"
   ]
  },
  {
   "cell_type": "code",
   "execution_count": 302,
   "metadata": {},
   "outputs": [
    {
     "data": {
      "image/png": "[encoded data removed]",
      "text/plain": [
       "<Figure size 1512x1512 with 1 Axes>"
      ]
     },
     "metadata": {
      "needs_background": "light"
     },
     "output_type": "display_data"
    }
   ],
   "source": [
    "###Testing\n",
    "#plot the histogram using np.imshow\n",
    "fig = plt.figure(figsize=(21, 21))\n",
    "ax = fig.add_subplot(131, title='imshow: square bins')\n",
    "_ = plt.imshow(test_hist, interpolation='nearest', cmap='hot', origin='low',\n",
    "         extent=[xedges[0], xedges[-1], yedges[0], yedges[-1]])"
   ]
  },
  {
   "cell_type": "markdown",
   "metadata": {},
   "source": [
    "***NOTE*** need to work out how to reverse the X-axis. Image is flipped horizontally/"
   ]
  },
  {
   "cell_type": "code",
   "execution_count": 303,
   "metadata": {},
   "outputs": [
    {
     "data": {
      "text/plain": [
       "(1293094,\n",
       " array([563160.17057797, 564714.08236708, 566267.99415619, 567821.9059453 ,\n",
       "        569375.81773441, 570929.72952352, 572483.64131263, 574037.55310174,\n",
       "        575591.46489084, 577145.37667995, 578699.28846906, 580253.20025817,\n",
       "        581807.11204728, 583361.02383639, 584914.9356255 , 586468.84741461,\n",
       "        588022.75920372, 589576.67099282, 591130.58278193, 592684.49457104,\n",
       "        594238.40636015, 595792.31814926, 597346.22993837, 598900.14172748,\n",
       "        600454.05351659, 602007.9653057 , 603561.8770948 , 605115.78888391,\n",
       "        606669.70067302, 608223.61246213, 609777.52425124, 611331.43604035,\n",
       "        612885.34782946]))"
      ]
     },
     "execution_count": 303,
     "metadata": {},
     "output_type": "execute_result"
    }
   ],
   "source": [
    "len(all_coords_df.x), yedges"
   ]
  },
  {
   "cell_type": "code",
   "execution_count": 304,
   "metadata": {},
   "outputs": [
    {
     "name": "stdout",
     "output_type": "stream",
     "text": [
      "2905\n",
      "array shape: (2905, 32, 32)\n"
     ]
    }
   ],
   "source": [
    "#Trying to use datetime objects\n",
    "# write a loop to select date and hour start with last 6 months\n",
    "#get a list of each unique date\n",
    "unique_date = np.unique(all_coords_df.date.dt.date) # return unique instances of just YYY-MM-DD\n",
    "list_of_accidents = []\n",
    "#loop over them\n",
    "for i in pd.date_range(start='12-16-2018', end='4-16-2019', freq='H'):\n",
    "    clear_output(wait=True)\n",
    "# generate the individual histograms\n",
    "    test_hist, yedges, xedges  = np.histogram2d(all_coords_df.loc[(all_coords_df.index >= i) & \\\n",
    "                                    (all_coords_df.index < (i + timedelta(hours=1)))].y, \\\n",
    "                                    all_coords_df.loc[(all_coords_df.index >= i) & \\\n",
    "                                    (all_coords_df.index < (i + timedelta(hours=1)))].x, bins=(yedges, xedges))\n",
    "    list_of_accidents.append(test_hist)\n",
    "    print(len(list_of_accidents))\n",
    "    \n",
    "#convert the list or arrays into a numpy array\n",
    "array_of_accidents = np.array(list_of_accidents)\n",
    "print('array shape:', array_of_accidents.shape)\n",
    "#array_of_accidents_reshape = array_of_accidents.reshape(2905,32,32,1)"
   ]
  },
  {
   "cell_type": "code",
   "execution_count": 305,
   "metadata": {},
   "outputs": [
    {
     "data": {
      "image/png": "[encoded data removed]",
      "text/plain": [
       "<Figure size 1512x1512 with 1 Axes>"
      ]
     },
     "metadata": {
      "needs_background": "light"
     },
     "output_type": "display_data"
    }
   ],
   "source": [
    "#plot the histogram using np.imshow\n",
    "fig = plt.figure(figsize=(21, 21))\n",
    "ax = fig.add_subplot(131, title='imshow: square bins')\n",
    "_ = plt.imshow(array_of_accidents[17], interpolation='nearest', cmap='Greys', origin='low',\n",
    "         extent=[xedges[0], xedges[-1], yedges[0], yedges[-1]])"
   ]
  },
  {
   "cell_type": "code",
   "execution_count": 306,
   "metadata": {},
   "outputs": [
    {
     "name": "stdout",
     "output_type": "stream",
     "text": [
      "(2905, 32, 32) 415.0\n"
     ]
    },
    {
     "data": {
      "text/plain": [
       "(2611, 294)"
      ]
     },
     "execution_count": 306,
     "metadata": {},
     "output_type": "execute_result"
    }
   ],
   "source": [
    "#what are the dimensions?\n",
    "print(array_of_accidents.shape, len(array_of_accidents) / 7) #how many time steps\n",
    "\n",
    "\n",
    "#want approx 10% for test set. Choose 294\n",
    "train_array = array_of_accidents_reshape[:-294]\n",
    "test_array = array_of_accidents_reshape[-294:]\n",
    "\n",
    "\n",
    "len(train_array), len(test_array)"
   ]
  },
  {
   "cell_type": "markdown",
   "metadata": {},
   "source": [
    "We want to create a 2D array for every hour. These will all go into a single array, so we can use a function to choose how"
   ]
  },
  {
   "cell_type": "code",
   "execution_count": 310,
   "metadata": {},
   "outputs": [
    {
     "name": "stdout",
     "output_type": "stream",
     "text": [
      "Samples: 2605\n",
      "Length of generator: 2605\n"
     ]
    },
    {
     "data": {
      "text/plain": [
       "((1, 6, 32, 32, 1), (1, 32, 32, 1))"
      ]
     },
     "execution_count": 310,
     "metadata": {},
     "output_type": "execute_result"
    }
   ],
   "source": [
    "#Define a generator to select data using keras TimeseriesGenerator\n",
    "# length - number of lag observations to use in the input for each sample\n",
    "# batch_size - \n",
    "\n",
    "n_input = 6 # Want to train on 6 to predict 7th\n",
    "train_generator = TimeseriesGenerator(train_array, train_array, length=n_input, batch_size=1)\n",
    "test_generator = TimeseriesGenerator(test_array, test_array, length=n_input, batch_size=1)\n",
    "generator = TimeseriesGenerator(array_of_accidents, array_of_accidents, length=n_input, batch_size=1)\n",
    "# number of samples\n",
    "print('Samples: %d' % len(train_generator))\n",
    "print('Length of generator:', len(train_generator))\n",
    "# print each sample\n",
    "for i in range(len(train_generator)):\n",
    "    X, y = train_generator[i]\n",
    "    #print('%s => %s' % (x, y))\n",
    "X.shape, y.shape #what shape do X and y have "
   ]
  },
  {
   "cell_type": "markdown",
   "metadata": {},
   "source": [
    "I tried the three different ways, each using the same generator set up earlier. I think this is what I have to reshape, but I ahven't worked out how to yet..."
   ]
  },
  {
   "cell_type": "markdown",
   "metadata": {},
   "source": [
    "# convLSTM"
   ]
  },
  {
   "cell_type": "code",
   "execution_count": 329,
   "metadata": {},
   "outputs": [
    {
     "name": "stdout",
     "output_type": "stream",
     "text": [
      "_________________________________________________________________\n",
      "Layer (type)                 Output Shape              Param #   \n",
      "=================================================================\n",
      "conv_lst_m2d_67 (ConvLSTM2D) (None, None, 32, 32, 32)  4352      \n",
      "_________________________________________________________________\n",
      "batch_normalization_67 (Batc (None, None, 32, 32, 32)  128       \n",
      "_________________________________________________________________\n",
      "conv_lst_m2d_68 (ConvLSTM2D) (None, None, 32, 32, 32)  8320      \n",
      "_________________________________________________________________\n",
      "batch_normalization_68 (Batc (None, None, 32, 32, 32)  128       \n",
      "_________________________________________________________________\n",
      "conv_lst_m2d_69 (ConvLSTM2D) (None, 32, 32, 32)        8320      \n",
      "_________________________________________________________________\n",
      "batch_normalization_69 (Batc (None, 32, 32, 32)        128       \n",
      "_________________________________________________________________\n",
      "conv2d_42 (Conv2D)           (None, 32, 32, 1)         33        \n",
      "=================================================================\n",
      "Total params: 21,409\n",
      "Trainable params: 21,217\n",
      "Non-trainable params: 192\n",
      "_________________________________________________________________\n"
     ]
    }
   ],
   "source": [
    "from keras.models import Sequential\n",
    "from keras.layers.convolutional import Conv3D\n",
    "from keras.layers.convolutional_recurrent import ConvLSTM2D\n",
    "from keras.layers.normalization import BatchNormalization\n",
    "import numpy as np\n",
    "import pylab as plt\n",
    "\n",
    "# We create a layer which take as input movies of shape\n",
    "# (n_frames, width, height, channels) and returns a movie\n",
    "# of identical shape.\n",
    "\n",
    "seq = Sequential()\n",
    "seq.add(ConvLSTM2D(filters=32, kernel_size=1,\n",
    "                   input_shape=(None, 32, 32, 1),\n",
    "                   padding='same', return_sequences=True))\n",
    "seq.add(BatchNormalization())\n",
    "\n",
    "seq.add(ConvLSTM2D(filters=32, kernel_size=1,\n",
    "                   padding='same', return_sequences=True))\n",
    "seq.add(BatchNormalization())\n",
    "\n",
    "#seq.add(ConvLSTM2D(filters=32, kernel_size=1,\n",
    "#                   padding='same', return_sequences=True))\n",
    "#seq.add(BatchNormalization())\n",
    "\n",
    "seq.add(ConvLSTM2D(filters=32, kernel_size=1,\n",
    "                   padding='same', return_sequences=False))\n",
    "seq.add(BatchNormalization())\n",
    "\n",
    "seq.add(Conv2D(filters=1, kernel_size=1,\n",
    "               activation='sigmoid',\n",
    "               padding='same', data_format='channels_last'))\n",
    "seq.compile(loss='binary_crossentropy', optimizer='adadelta')\n",
    "seq.summary()"
   ]
  },
  {
   "cell_type": "code",
   "execution_count": 330,
   "metadata": {},
   "outputs": [
    {
     "name": "stdout",
     "output_type": "stream",
     "text": [
      "Epoch 1/10\n",
      "2605/2605 [==============================] - 1645s 631ms/step - loss: 0.1113\n",
      "Epoch 2/10\n",
      "2605/2605 [==============================] - 1108s 425ms/step - loss: 0.0933\n",
      "Epoch 3/10\n",
      "2605/2605 [==============================] - 1000s 384ms/step - loss: 0.0932\n",
      "Epoch 4/10\n",
      "2605/2605 [==============================] - 996s 382ms/step - loss: 0.0931\n",
      "Epoch 5/10\n",
      "2605/2605 [==============================] - 937s 360ms/step - loss: 0.0931\n",
      "Epoch 6/10\n",
      "2605/2605 [==============================] - 931s 357ms/step - loss: 0.0930\n",
      "Epoch 7/10\n",
      "2605/2605 [==============================] - 926s 356ms/step - loss: 0.0930\n",
      "Epoch 8/10\n",
      "2605/2605 [==============================] - 933s 358ms/step - loss: 0.0930\n",
      "Epoch 9/10\n",
      "2605/2605 [==============================] - 932s 358ms/step - loss: 0.0930\n",
      "Epoch 10/10\n",
      "2605/2605 [==============================] - 933s 358ms/step - loss: 0.0930\n"
     ]
    },
    {
     "data": {
      "text/plain": [
       "<keras.callbacks.History at 0x6b6c64ac8>"
      ]
     },
     "execution_count": 330,
     "metadata": {},
     "output_type": "execute_result"
    }
   ],
   "source": [
    "seq.fit_generator(train_generator, epochs=10) "
   ]
  },
  {
   "cell_type": "code",
   "execution_count": 331,
   "metadata": {},
   "outputs": [],
   "source": [
    "seq.save('20191225_CONVLSTM2D.h5')"
   ]
  },
  {
   "cell_type": "code",
   "execution_count": 335,
   "metadata": {},
   "outputs": [
    {
     "ename": "TypeError",
     "evalue": "Invalid shape (1, 32, 32, 1) for image data",
     "output_type": "error",
     "traceback": [
      "\u001b[0;31m---------------------------------------------------------------------------\u001b[0m",
      "\u001b[0;31mTypeError\u001b[0m                                 Traceback (most recent call last)",
      "\u001b[0;32m<ipython-input-335-cf4314902f42>\u001b[0m in \u001b[0;36m<module>\u001b[0;34m\u001b[0m\n\u001b[0;32m----> 1\u001b[0;31m \u001b[0mplt\u001b[0m\u001b[0;34m.\u001b[0m\u001b[0mimshow\u001b[0m\u001b[0;34m(\u001b[0m\u001b[0my\u001b[0m\u001b[0;34m)\u001b[0m\u001b[0;34m\u001b[0m\u001b[0;34m\u001b[0m\u001b[0m\n\u001b[0m",
      "\u001b[0;32m~/anaconda3/lib/python3.7/site-packages/matplotlib/pyplot.py\u001b[0m in \u001b[0;36mimshow\u001b[0;34m(X, cmap, norm, aspect, interpolation, alpha, vmin, vmax, origin, extent, shape, filternorm, filterrad, imlim, resample, url, data, **kwargs)\u001b[0m\n\u001b[1;32m   2675\u001b[0m         \u001b[0mfilternorm\u001b[0m\u001b[0;34m=\u001b[0m\u001b[0mfilternorm\u001b[0m\u001b[0;34m,\u001b[0m \u001b[0mfilterrad\u001b[0m\u001b[0;34m=\u001b[0m\u001b[0mfilterrad\u001b[0m\u001b[0;34m,\u001b[0m \u001b[0mimlim\u001b[0m\u001b[0;34m=\u001b[0m\u001b[0mimlim\u001b[0m\u001b[0;34m,\u001b[0m\u001b[0;34m\u001b[0m\u001b[0;34m\u001b[0m\u001b[0m\n\u001b[1;32m   2676\u001b[0m         resample=resample, url=url, **({\"data\": data} if data is not\n\u001b[0;32m-> 2677\u001b[0;31m         None else {}), **kwargs)\n\u001b[0m\u001b[1;32m   2678\u001b[0m     \u001b[0msci\u001b[0m\u001b[0;34m(\u001b[0m\u001b[0m__ret\u001b[0m\u001b[0;34m)\u001b[0m\u001b[0;34m\u001b[0m\u001b[0;34m\u001b[0m\u001b[0m\n\u001b[1;32m   2679\u001b[0m     \u001b[0;32mreturn\u001b[0m \u001b[0m__ret\u001b[0m\u001b[0;34m\u001b[0m\u001b[0;34m\u001b[0m\u001b[0m\n",
      "\u001b[0;32m~/anaconda3/lib/python3.7/site-packages/matplotlib/__init__.py\u001b[0m in \u001b[0;36minner\u001b[0;34m(ax, data, *args, **kwargs)\u001b[0m\n\u001b[1;32m   1587\u001b[0m     \u001b[0;32mdef\u001b[0m \u001b[0minner\u001b[0m\u001b[0;34m(\u001b[0m\u001b[0max\u001b[0m\u001b[0;34m,\u001b[0m \u001b[0;34m*\u001b[0m\u001b[0margs\u001b[0m\u001b[0;34m,\u001b[0m \u001b[0mdata\u001b[0m\u001b[0;34m=\u001b[0m\u001b[0;32mNone\u001b[0m\u001b[0;34m,\u001b[0m \u001b[0;34m**\u001b[0m\u001b[0mkwargs\u001b[0m\u001b[0;34m)\u001b[0m\u001b[0;34m:\u001b[0m\u001b[0;34m\u001b[0m\u001b[0;34m\u001b[0m\u001b[0m\n\u001b[1;32m   1588\u001b[0m         \u001b[0;32mif\u001b[0m \u001b[0mdata\u001b[0m \u001b[0;32mis\u001b[0m \u001b[0;32mNone\u001b[0m\u001b[0;34m:\u001b[0m\u001b[0;34m\u001b[0m\u001b[0;34m\u001b[0m\u001b[0m\n\u001b[0;32m-> 1589\u001b[0;31m             \u001b[0;32mreturn\u001b[0m \u001b[0mfunc\u001b[0m\u001b[0;34m(\u001b[0m\u001b[0max\u001b[0m\u001b[0;34m,\u001b[0m \u001b[0;34m*\u001b[0m\u001b[0mmap\u001b[0m\u001b[0;34m(\u001b[0m\u001b[0msanitize_sequence\u001b[0m\u001b[0;34m,\u001b[0m \u001b[0margs\u001b[0m\u001b[0;34m)\u001b[0m\u001b[0;34m,\u001b[0m \u001b[0;34m**\u001b[0m\u001b[0mkwargs\u001b[0m\u001b[0;34m)\u001b[0m\u001b[0;34m\u001b[0m\u001b[0;34m\u001b[0m\u001b[0m\n\u001b[0m\u001b[1;32m   1590\u001b[0m \u001b[0;34m\u001b[0m\u001b[0m\n\u001b[1;32m   1591\u001b[0m         \u001b[0mbound\u001b[0m \u001b[0;34m=\u001b[0m \u001b[0mnew_sig\u001b[0m\u001b[0;34m.\u001b[0m\u001b[0mbind\u001b[0m\u001b[0;34m(\u001b[0m\u001b[0max\u001b[0m\u001b[0;34m,\u001b[0m \u001b[0;34m*\u001b[0m\u001b[0margs\u001b[0m\u001b[0;34m,\u001b[0m \u001b[0;34m**\u001b[0m\u001b[0mkwargs\u001b[0m\u001b[0;34m)\u001b[0m\u001b[0;34m\u001b[0m\u001b[0;34m\u001b[0m\u001b[0m\n",
      "\u001b[0;32m~/anaconda3/lib/python3.7/site-packages/matplotlib/cbook/deprecation.py\u001b[0m in \u001b[0;36mwrapper\u001b[0;34m(*args, **kwargs)\u001b[0m\n\u001b[1;32m    367\u001b[0m                 \u001b[0;34mf\"%(removal)s.  If any parameter follows {name!r}, they \"\u001b[0m\u001b[0;34m\u001b[0m\u001b[0;34m\u001b[0m\u001b[0m\n\u001b[1;32m    368\u001b[0m                 f\"should be pass as keyword, not positionally.\")\n\u001b[0;32m--> 369\u001b[0;31m         \u001b[0;32mreturn\u001b[0m \u001b[0mfunc\u001b[0m\u001b[0;34m(\u001b[0m\u001b[0;34m*\u001b[0m\u001b[0margs\u001b[0m\u001b[0;34m,\u001b[0m \u001b[0;34m**\u001b[0m\u001b[0mkwargs\u001b[0m\u001b[0;34m)\u001b[0m\u001b[0;34m\u001b[0m\u001b[0;34m\u001b[0m\u001b[0m\n\u001b[0m\u001b[1;32m    370\u001b[0m \u001b[0;34m\u001b[0m\u001b[0m\n\u001b[1;32m    371\u001b[0m     \u001b[0;32mreturn\u001b[0m \u001b[0mwrapper\u001b[0m\u001b[0;34m\u001b[0m\u001b[0;34m\u001b[0m\u001b[0m\n",
      "\u001b[0;32m~/anaconda3/lib/python3.7/site-packages/matplotlib/cbook/deprecation.py\u001b[0m in \u001b[0;36mwrapper\u001b[0;34m(*args, **kwargs)\u001b[0m\n\u001b[1;32m    367\u001b[0m                 \u001b[0;34mf\"%(removal)s.  If any parameter follows {name!r}, they \"\u001b[0m\u001b[0;34m\u001b[0m\u001b[0;34m\u001b[0m\u001b[0m\n\u001b[1;32m    368\u001b[0m                 f\"should be pass as keyword, not positionally.\")\n\u001b[0;32m--> 369\u001b[0;31m         \u001b[0;32mreturn\u001b[0m \u001b[0mfunc\u001b[0m\u001b[0;34m(\u001b[0m\u001b[0;34m*\u001b[0m\u001b[0margs\u001b[0m\u001b[0;34m,\u001b[0m \u001b[0;34m**\u001b[0m\u001b[0mkwargs\u001b[0m\u001b[0;34m)\u001b[0m\u001b[0;34m\u001b[0m\u001b[0;34m\u001b[0m\u001b[0m\n\u001b[0m\u001b[1;32m    370\u001b[0m \u001b[0;34m\u001b[0m\u001b[0m\n\u001b[1;32m    371\u001b[0m     \u001b[0;32mreturn\u001b[0m \u001b[0mwrapper\u001b[0m\u001b[0;34m\u001b[0m\u001b[0;34m\u001b[0m\u001b[0m\n",
      "\u001b[0;32m~/anaconda3/lib/python3.7/site-packages/matplotlib/axes/_axes.py\u001b[0m in \u001b[0;36mimshow\u001b[0;34m(self, X, cmap, norm, aspect, interpolation, alpha, vmin, vmax, origin, extent, shape, filternorm, filterrad, imlim, resample, url, **kwargs)\u001b[0m\n\u001b[1;32m   5658\u001b[0m                               resample=resample, **kwargs)\n\u001b[1;32m   5659\u001b[0m \u001b[0;34m\u001b[0m\u001b[0m\n\u001b[0;32m-> 5660\u001b[0;31m         \u001b[0mim\u001b[0m\u001b[0;34m.\u001b[0m\u001b[0mset_data\u001b[0m\u001b[0;34m(\u001b[0m\u001b[0mX\u001b[0m\u001b[0;34m)\u001b[0m\u001b[0;34m\u001b[0m\u001b[0;34m\u001b[0m\u001b[0m\n\u001b[0m\u001b[1;32m   5661\u001b[0m         \u001b[0mim\u001b[0m\u001b[0;34m.\u001b[0m\u001b[0mset_alpha\u001b[0m\u001b[0;34m(\u001b[0m\u001b[0malpha\u001b[0m\u001b[0;34m)\u001b[0m\u001b[0;34m\u001b[0m\u001b[0;34m\u001b[0m\u001b[0m\n\u001b[1;32m   5662\u001b[0m         \u001b[0;32mif\u001b[0m \u001b[0mim\u001b[0m\u001b[0;34m.\u001b[0m\u001b[0mget_clip_path\u001b[0m\u001b[0;34m(\u001b[0m\u001b[0;34m)\u001b[0m \u001b[0;32mis\u001b[0m \u001b[0;32mNone\u001b[0m\u001b[0;34m:\u001b[0m\u001b[0;34m\u001b[0m\u001b[0;34m\u001b[0m\u001b[0m\n",
      "\u001b[0;32m~/anaconda3/lib/python3.7/site-packages/matplotlib/image.py\u001b[0m in \u001b[0;36mset_data\u001b[0;34m(self, A)\u001b[0m\n\u001b[1;32m    681\u001b[0m                 or self._A.ndim == 3 and self._A.shape[-1] in [3, 4]):\n\u001b[1;32m    682\u001b[0m             raise TypeError(\"Invalid shape {} for image data\"\n\u001b[0;32m--> 683\u001b[0;31m                             .format(self._A.shape))\n\u001b[0m\u001b[1;32m    684\u001b[0m \u001b[0;34m\u001b[0m\u001b[0m\n\u001b[1;32m    685\u001b[0m         \u001b[0;32mif\u001b[0m \u001b[0mself\u001b[0m\u001b[0;34m.\u001b[0m\u001b[0m_A\u001b[0m\u001b[0;34m.\u001b[0m\u001b[0mndim\u001b[0m \u001b[0;34m==\u001b[0m \u001b[0;36m3\u001b[0m\u001b[0;34m:\u001b[0m\u001b[0;34m\u001b[0m\u001b[0;34m\u001b[0m\u001b[0m\n",
      "\u001b[0;31mTypeError\u001b[0m: Invalid shape (1, 32, 32, 1) for image data"
     ]
    },
    {
     "data": {
      "image/png": "[encoded data removed]",
      "text/plain": [
       "<Figure size 432x288 with 1 Axes>"
      ]
     },
     "metadata": {
      "needs_background": "light"
     },
     "output_type": "display_data"
    }
   ],
   "source": [
    "plt.imshow(y)"
   ]
  },
  {
   "cell_type": "code",
   "execution_count": 259,
   "metadata": {},
   "outputs": [
    {
     "name": "stdout",
     "output_type": "stream",
     "text": [
      "Samples: 4\n",
      "[[1 2 3 4 5 6]] => [7]\n",
      "[[2 3 4 5 6 7]] => [8]\n",
      "[[3 4 5 6 7 8]] => [9]\n",
      "[[4 5 6 7 8 9]] => [10]\n"
     ]
    }
   ],
   "source": [
    "\n",
    "# univariate one step problem\n",
    "from numpy import array\n",
    "from keras.preprocessing.sequence import TimeseriesGenerator\n",
    "# define dataset\n",
    "series = array([1, 2, 3, 4, 5, 6, 7, 8, 9, 10])\n",
    "# define generator\n",
    "n_input = 6\n",
    "generator = TimeseriesGenerator(series, series, length=n_input, batch_size=1)\n",
    "# number of samples\n",
    "print('Samples: %d' % len(generator))\n",
    "# print each sample\n",
    "for i in range(len(generator)):\n",
    "\tx, y = generator[i]\n",
    "\tprint('%s => %s' % (x, y))"
   ]
  },
  {
   "cell_type": "code",
   "execution_count": 337,
   "metadata": {},
   "outputs": [
    {
     "name": "stdout",
     "output_type": "stream",
     "text": [
      "_________________________________________________________________\n",
      "Layer (type)                 Output Shape              Param #   \n",
      "=================================================================\n",
      "conv_lst_m2d_74 (ConvLSTM2D) (None, None, 40, 40, 40)  59200     \n",
      "_________________________________________________________________\n",
      "batch_normalization_74 (Batc (None, None, 40, 40, 40)  160       \n",
      "_________________________________________________________________\n",
      "conv_lst_m2d_75 (ConvLSTM2D) (None, None, 40, 40, 40)  115360    \n",
      "_________________________________________________________________\n",
      "batch_normalization_75 (Batc (None, None, 40, 40, 40)  160       \n",
      "_________________________________________________________________\n",
      "conv_lst_m2d_76 (ConvLSTM2D) (None, None, 40, 40, 40)  115360    \n",
      "_________________________________________________________________\n",
      "batch_normalization_76 (Batc (None, None, 40, 40, 40)  160       \n",
      "_________________________________________________________________\n",
      "conv_lst_m2d_77 (ConvLSTM2D) (None, None, 40, 40, 40)  115360    \n",
      "_________________________________________________________________\n",
      "batch_normalization_77 (Batc (None, None, 40, 40, 40)  160       \n",
      "_________________________________________________________________\n",
      "conv3d_15 (Conv3D)           (None, None, 40, 40, 1)   1081      \n",
      "=================================================================\n",
      "Total params: 407,001\n",
      "Trainable params: 406,681\n",
      "Non-trainable params: 320\n",
      "_________________________________________________________________\n"
     ]
    }
   ],
   "source": [
    "from keras.models import Sequential\n",
    "from keras.layers.convolutional import Conv3D\n",
    "from keras.layers.convolutional_recurrent import ConvLSTM2D\n",
    "from keras.layers.normalization import BatchNormalization\n",
    "import numpy as np\n",
    "import pylab as plt\n",
    "\n",
    "# We create a layer which take as input movies of shape\n",
    "# (n_frames, width, height, channels) and returns a movie\n",
    "# of identical shape.\n",
    "\n",
    "seq = Sequential()\n",
    "seq.add(ConvLSTM2D(filters=40, kernel_size=(3, 3),\n",
    "                   input_shape=(None, 40, 40, 1),\n",
    "                   padding='same', return_sequences=True))\n",
    "seq.add(BatchNormalization())\n",
    "\n",
    "seq.add(ConvLSTM2D(filters=40, kernel_size=(3, 3),\n",
    "                   padding='same', return_sequences=True))\n",
    "seq.add(BatchNormalization())\n",
    "\n",
    "seq.add(ConvLSTM2D(filters=40, kernel_size=(3, 3),\n",
    "                   padding='same', return_sequences=True))\n",
    "seq.add(BatchNormalization())\n",
    "\n",
    "seq.add(ConvLSTM2D(filters=40, kernel_size=(3, 3),\n",
    "                   padding='same', return_sequences=True))\n",
    "seq.add(BatchNormalization())\n",
    "\n",
    "seq.add(Conv3D(filters=1, kernel_size=(3, 3, 3),\n",
    "               activation='sigmoid',\n",
    "               padding='same', data_format='channels_last'))\n",
    "seq.compile(loss='binary_crossentropy', optimizer='adadelta')\n",
    "seq.summary()"
   ]
  },
  {
   "cell_type": "code",
   "execution_count": null,
   "metadata": {},
   "outputs": [],
   "source": []
  }
 ],
 "metadata": {
  "kernelspec": {
   "display_name": "Python 3",
   "language": "python",
   "name": "python3"
  },
  "language_info": {
   "codemirror_mode": {
    "name": "ipython",
    "version": 3
   },
   "file_extension": ".py",
   "mimetype": "text/x-python",
   "name": "python",
   "nbconvert_exporter": "python",
   "pygments_lexer": "ipython3",
   "version": "3.7.3"
  }
 },
 "nbformat": 4,
 "nbformat_minor": 2
}
